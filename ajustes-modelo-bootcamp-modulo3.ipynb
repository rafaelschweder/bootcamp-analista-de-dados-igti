{
 "cells": [
  {
   "cell_type": "markdown",
   "metadata": {},
   "source": [
    "# Ajuste do modelo \"bootcamp\"\n",
    "\n",
    "Este notebook tem o objetivo de fazer os ajutes no modelo de dados que foi utilizado no Trabalho Prático do Módulo 3 (Coleta e Obtenção de Dados) do Bootcamp de Analista de Dados do IGTI.\n",
    "\n",
    "Para isso, iremos  partir do princípio que o modelo foi criado conforme o arquivo fornecido para realização do trabalho prático, com as seguintes tabelas:\n",
    "\n",
    "![MER](https://i.imgur.com/62RwXMS.png)\n",
    "\n",
    "O objetivo não é praticar as metodologias que foram apresentadas nas aulas nem realizar o trabalho prático, mas sim fazer os ajustes no modelos de dados utilizando apenas o **Pandas** e o **SQLAlchemy**."
   ]
  },
  {
   "cell_type": "markdown",
   "metadata": {},
   "source": [
    "### Importação das bibliotecas:\n",
    "- **pandas**: para manibulação dos dataframes (leitura de arquivoe e gravação em banco de dados)\n",
    "- **sqlalchemy**: para gravação dos dataframes no MySQL"
   ]
  },
  {
   "cell_type": "code",
   "execution_count": 1,
   "metadata": {},
   "outputs": [],
   "source": [
    "import pandas as pd\n",
    "from sqlalchemy import create_engine"
   ]
  },
  {
   "cell_type": "markdown",
   "metadata": {},
   "source": [
    "### Conexão com MySQL\n",
    "Conecão com o banco de dados utilizando o **SQLAlchemy**.\n",
    "\n",
    "Parâmetros da string de conexão:\n",
    "- usr: usuário\n",
    "- pwd: senha\n",
    "- host: nome do servidor\n",
    "- db: nome do bando de dados"
   ]
  },
  {
   "cell_type": "code",
   "execution_count": 2,
   "metadata": {},
   "outputs": [],
   "source": [
    "engine = create_engine('mysql+pymysql://{usr}:{pwd}@{host}/{db}'\n",
    "                       .format(usr = 'igti', \n",
    "                               pwd = 'igti', \n",
    "                               host = 'localhost', \n",
    "                               db = 'bootcamp2'))\n",
    "\n",
    "conn = engine.connect()"
   ]
  },
  {
   "cell_type": "markdown",
   "metadata": {},
   "source": [
    "### Criação das Tabelas\n",
    "As tabelas **CaracteristicasGerais** e **CaracteristicaGeralImovel** não estão no modelo inicial, então é necessário criá-las."
   ]
  },
  {
   "cell_type": "code",
   "execution_count": 3,
   "metadata": {},
   "outputs": [
    {
     "data": {
      "text/plain": [
       "<sqlalchemy.engine.result.ResultProxy at 0x1e80be10208>"
      ]
     },
     "execution_count": 3,
     "metadata": {},
     "output_type": "execute_result"
    }
   ],
   "source": [
    "cmd = \"CREATE TABLE IF NOT EXISTS caracteristicasgerais (\\\n",
    "            idcaracteristicasGerais int NOT NULL AUTO_INCREMENT,\\\n",
    "            dsccaracteristicasGerais varchar(150) NOT NULL,\\\n",
    "            PRIMARY KEY (idcaracteristicasGerais)\\\n",
    "        );\"\n",
    "conn.execute(cmd)\n",
    "\n",
    "cmd = \"CREATE TABLE IF NOT EXISTS caracteristicageralimovel (\\\n",
    "          idCaracteristicasImovel int NOT NULL AUTO_INCREMENT,\\\n",
    "          idcaracteristicasGerais int NOT NULL,\\\n",
    "          idImovel int NOT NULL,\\\n",
    "          temCaracteristica tinyint DEFAULT NULL,\\\n",
    "          PRIMARY KEY (idCaracteristicasImovel),\\\n",
    "          KEY fk_caracteristicasGerais_has_Imovel_Imovel1_idx (idImovel),\\\n",
    "          KEY fk_caracteristicasGerais_has_Imovel_caracteristicasGerais1_idx (idcaracteristicasGerais),\\\n",
    "          CONSTRAINT fk_ccaracteristicageralimovel_caracteristicasgerais FOREIGN KEY (idcaracteristicasGerais) REFERENCES caracteristicasgerais (idcaracteristicasGerais),\\\n",
    "          CONSTRAINT fk_caracteristicageralimovel_Imovel FOREIGN KEY (idImovel) REFERENCES imovel (idImovel)\\\n",
    "        );\"\n",
    "conn.execute(cmd)"
   ]
  },
  {
   "cell_type": "markdown",
   "metadata": {},
   "source": [
    "### Inclusão Manual de Características\n",
    "Nas vídeo-aulas a professora utiliza alguns métodos diferentes para realizas a inclusão das três primeiras categorias('Poertair 24 horas', 'Elevador' e 'Piscina'). Aqui será criado manualmente um DataFrame no Pandas para carregá-lo direto para a tabela.\n",
    "\n",
    "Para utilizar o método to_sql do DataFrame é necessário passar Engine como parâmetro (não a Conexão)."
   ]
  },
  {
   "cell_type": "code",
   "execution_count": 4,
   "metadata": {},
   "outputs": [],
   "source": [
    "# Criação de um dicionário com as informações\n",
    "caracteristicas = {\n",
    "    'idcaracteristicasGerais': [1, 2, 3],\n",
    "    'dsccaracteristicasGerais': [\"Portaria 24 horas\", \"Elevador\", \"Piscina\"]\n",
    "}\n",
    "\n",
    "# Criação de um DataFrame à partir do dicionário\n",
    "df_caracteristicas = pd.DataFrame(caracteristicas)\n",
    "\n",
    "# Inclusão das características na tabela\n",
    "df_caracteristicas.to_sql(name='caracteristicasgerais', con=engine, if_exists='append', index=False)"
   ]
  },
  {
   "cell_type": "markdown",
   "metadata": {},
   "source": [
    "### Importação das demais Características\n",
    "As demais características do imóveis estão em um arquivo CSV, então é possível importá-las para um DataFrame e então inserí-las diretamente na tabela."
   ]
  },
  {
   "cell_type": "code",
   "execution_count": 5,
   "metadata": {},
   "outputs": [],
   "source": [
    "# Importa do CSV\n",
    "df_caracteristicas = pd.read_csv('arquivos/caracteristicasgerais.csv', encoding='latin1')\n",
    "\n",
    "# Insere na tabela\n",
    "df_caracteristicas.to_sql(name='caracteristicasgerais', con=engine, if_exists='append', index=False)"
   ]
  },
  {
   "cell_type": "markdown",
   "metadata": {},
   "source": [
    "### Importação dos Estados\n",
    "A lista dos estados está em um arquivo do Excel (.xlsx), então é possível importá-los para um DataFrama e então inserí-los diretamente na tabela."
   ]
  },
  {
   "cell_type": "code",
   "execution_count": 6,
   "metadata": {},
   "outputs": [],
   "source": [
    "# Importa do Excel\n",
    "df_estados = pd.read_excel('arquivos/estados.xlsx')\n",
    "\n",
    "# Insere na tabela\n",
    "df_estados.to_sql(name='estado', con=engine, if_exists='append', index=False)"
   ]
  },
  {
   "cell_type": "markdown",
   "metadata": {},
   "source": [
    "### Importação das Cidades\n",
    "As lista das cidades está em um arquivo CSV, então é possível importá-las para um DataFrame e então inserí-las diretamente na tabela."
   ]
  },
  {
   "cell_type": "code",
   "execution_count": 7,
   "metadata": {},
   "outputs": [],
   "source": [
    "# Importa do CSV\n",
    "df_cidades = pd.read_csv('arquivos/cidades.csv', encoding='latin1')\n",
    "\n",
    "# Insere na tabela\n",
    "df_cidades.to_sql(name='cidade', con=engine, if_exists='append', index=False)"
   ]
  },
  {
   "cell_type": "markdown",
   "metadata": {},
   "source": [
    "### Importação dos Imóveis\n",
    "Os dados dos imóveis estão em um arquivo TXT em formato de comandos INSERTs prontos para serem executados na tabela."
   ]
  },
  {
   "cell_type": "code",
   "execution_count": 8,
   "metadata": {},
   "outputs": [],
   "source": [
    "file_imoveis = 'arquivos/imoveis.txt'\n",
    "\n",
    "# Abre e lê o conteúdo do arquivo\n",
    "f = open(file_imoveis, \"r\")\n",
    "lines = f.readlines() \n",
    "\n",
    "# Iteração sobre as linhas e execução dos comandos\n",
    "for line in lines: \n",
    "    if line.strip() != '':\n",
    "        conn.execute(line.strip())"
   ]
  },
  {
   "cell_type": "markdown",
   "metadata": {},
   "source": [
    "### Importação do vínculo entre os Imóveis e suas Características\n",
    "As informações dos relacionamentos entre os imóveis e suas características estão em um arquivo CSV, então é possível importá-las para um DataFrame e então inserí-las diretamente na tabela."
   ]
  },
  {
   "cell_type": "code",
   "execution_count": 9,
   "metadata": {
    "scrolled": true
   },
   "outputs": [],
   "source": [
    "# Importa do CSV\n",
    "df_caracteristicas_imovel = pd.read_csv('Arquivos/caracteristicaImovel.csv', encoding='latin1')\n",
    "\n",
    "# Insere na tabela\n",
    "df_caracteristicas_imovel.to_sql(name='caracteristicageralimovel', con=engine, if_exists='append', index=False)"
   ]
  }
 ],
 "metadata": {
  "kernelspec": {
   "display_name": "Python 3",
   "language": "python",
   "name": "python3"
  },
  "language_info": {
   "codemirror_mode": {
    "name": "ipython",
    "version": 3
   },
   "file_extension": ".py",
   "mimetype": "text/x-python",
   "name": "python",
   "nbconvert_exporter": "python",
   "pygments_lexer": "ipython3",
   "version": "3.7.1"
  }
 },
 "nbformat": 4,
 "nbformat_minor": 4
}
